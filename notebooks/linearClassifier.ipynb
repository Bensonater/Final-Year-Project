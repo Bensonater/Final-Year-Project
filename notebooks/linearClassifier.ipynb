{
 "cells": [
  {
   "cell_type": "code",
   "execution_count": 1,
   "metadata": {},
   "outputs": [],
   "source": [
    "import sys\n",
    "import os\n",
    "from logging import getLogger, ERROR\n",
    "import time \n",
    "\n",
    "notebook_dir = os.getcwd()\n",
    "parent_dir = os.path.dirname(notebook_dir)\n",
    "# Fix module imports\n",
    "if parent_dir not in sys.path:\n",
    "    sys.path.append(parent_dir)\n",
    "\n",
    "# Disable Hugging Face warnings\n",
    "getLogger(\"transformers.modeling_utils\").setLevel(ERROR)"
   ]
  },
  {
   "cell_type": "code",
   "execution_count": 2,
   "metadata": {},
   "outputs": [
    {
     "name": "stderr",
     "output_type": "stream",
     "text": [
      "/data/bz620/fyp/lib/python3.10/site-packages/tqdm/auto.py:21: TqdmWarning: IProgress not found. Please update jupyter and ipywidgets. See https://ipywidgets.readthedocs.io/en/stable/user_install.html\n",
      "  from .autonotebook import tqdm as notebook_tqdm\n"
     ]
    }
   ],
   "source": [
    "from model.qgpt2_models import QGPT2ClassificationModel\n",
    "import torch\n",
    "from pandas import read_csv\n",
    "from datasets import Dataset\n",
    "from sklearn.metrics import f1_score\n",
    "from sklearn.model_selection import GridSearchCV\n",
    "import numpy\n",
    "from transformers import GPT2Model, GPT2Tokenizer\n",
    "\n",
    "fhe_model = QGPT2ClassificationModel.from_pretrained(\"./saved_model\", n_bits=8,use_cache=False, num_labels=3)\n",
    "                                             \n",
    "gpt2_model = GPT2Model.from_pretrained(\"./saved_model\", num_labels=3)\n",
    "tokenizer = GPT2Tokenizer.from_pretrained(\"openai-community/gpt2\")"
   ]
  },
  {
   "cell_type": "code",
   "execution_count": 3,
   "metadata": {},
   "outputs": [],
   "source": [
    "def tokenize_function(examples):\n",
    "    return tokenizer(examples[\"text\"], padding='max_length', truncation=True, max_length=128)\n",
    "\n",
    "tokenizer.pad_token = tokenizer.eos_token\n",
    "gpt2_model.config.pad_token_id = gpt2_model.config.eos_token_id\n",
    "fhe_model.config.pad_token_id = fhe_model.config.eos_token_id"
   ]
  },
  {
   "cell_type": "code",
   "execution_count": 4,
   "metadata": {},
   "outputs": [],
   "source": [
    "df = read_csv(\"../data/Tweets.csv\")\n",
    "df['airline_sentiment'] = df['airline_sentiment'].replace([\"negative\", \"neutral\", \"positive\"], [0, 1, 2])\n",
    "\n",
    "dataset = Dataset.from_pandas(df)\n",
    "dataset = dataset.select_columns([\"text\", \"airline_sentiment\"])\n",
    "dataset = dataset.rename_column(\"airline_sentiment\", \"label\")\n",
    "\n",
    "ds_dict = dataset.train_test_split(test_size= 0.1, seed=42)\n",
    "train_ds = ds_dict[\"train\"]\n",
    "eval_ds = ds_dict[\"test\"]"
   ]
  },
  {
   "cell_type": "code",
   "execution_count": 5,
   "metadata": {},
   "outputs": [],
   "source": [
    "# Function that transforms a list of texts to their representation\n",
    "# learned by the transformer.\n",
    "\n",
    "def get_hidden_states(\n",
    "    inputs: list,\n",
    "    transformer_model,\n",
    "    tokenizer: GPT2Tokenizer,\n",
    "    device: str = \"cuda\",\n",
    "):\n",
    "    # Tokenize each text in the list one by one\n",
    "    tokenized = map(lambda x: tokenizer.encode(x, return_tensors=\"pt\"), inputs)\n",
    "\n",
    "    # Send the model to the device\n",
    "    transformer_model = transformer_model.to(device)\n",
    "    output_hidden_states_list = []\n",
    "\n",
    "    for tokenized_x in tokenized:\n",
    "        # Pass the tokens through the transformer model and get the hidden states\n",
    "        # Only keep the last hidden layer state for now\n",
    "        output_hidden_states = transformer_model(tokenized_x.to(device), output_hidden_states=True).hidden_states[-1]\n",
    "        # Average over the tokens axis to get a representation at the text level.\n",
    "        output_hidden_states = output_hidden_states.mean(dim=1)\n",
    "        output_hidden_states = output_hidden_states.detach().cpu().numpy()\n",
    "        output_hidden_states_list.append(output_hidden_states)\n",
    "\n",
    "    return numpy.concatenate(output_hidden_states_list, axis=0)\n",
    "\n",
    "hidden_states = get_hidden_states(train_ds[\"text\"], gpt2_model, tokenizer)\n",
    "x_test_states = get_hidden_states(eval_ds[\"text\"], gpt2_model, tokenizer)"
   ]
  },
  {
   "cell_type": "code",
   "execution_count": 16,
   "metadata": {},
   "outputs": [],
   "source": [
    "numpy.savetxt(\"train_hidden_states.csv\", hidden_states, delimiter=\",\")\n",
    "numpy.savetxt(\"test_hidden_states.csv\", x_test_states, delimiter=\",\")"
   ]
  },
  {
   "cell_type": "code",
   "execution_count": 6,
   "metadata": {},
   "outputs": [
    {
     "name": "stdout",
     "output_type": "stream",
     "text": [
      "Best score: 0.6052671523982999\n",
      "Best hyper-parameters: {'max_depth': 1, 'n_bits': 2, 'n_estimators': 50}\n"
     ]
    },
    {
     "ename": "",
     "evalue": "",
     "output_type": "error",
     "traceback": [
      "\u001b[1;31mThe Kernel crashed while executing code in the current cell or a previous cell. \n",
      "\u001b[1;31mPlease review the code in the cell(s) to identify a possible cause of the failure. \n",
      "\u001b[1;31mClick <a href='https://aka.ms/vscodeJupyterKernelCrash'>here</a> for more info. \n",
      "\u001b[1;31mView Jupyter <a href='command:jupyter.viewOutput'>log</a> for further details."
     ]
    }
   ],
   "source": [
    "classifier = torch.nn.Linear(768, 3, bias=False)\n",
    "\n",
    "\n",
    "print(f\"Best score: {grid_search.best_score_}\")\n",
    "print(f\"Best hyper-parameters: {grid_search.best_params_}\")"
   ]
  },
  {
   "cell_type": "code",
   "execution_count": 7,
   "metadata": {},
   "outputs": [],
   "source": [
    "# Extract best model\n",
    "best_model = grid_search.best_estimator_\n",
    "\n",
    "best_model.compile(x_test_states)\n",
    "\n",
    "# Compute the metrics for each class\n",
    "start = time.perf_counter()\n",
    "y_proba = best_model.predict_proba(x_test_states, fhe=\"execute\")\n",
    "end = time.perf_counter()\n",
    "y_test = eval_ds[\"label\"]\n",
    "\n",
    "# Compute the accuracy\n",
    "y_pred = numpy.argmax(y_proba, axis=1)\n",
    "\n",
    "f1 = f1_score(\n",
    "    y_test, y_pred, average=\"macro\"\n",
    ")\n",
    "\n",
    "f1s = f1_score(\n",
    "    y_test, y_pred, average=None\n",
    ")\n",
    "\n",
    "print(f\"Run time: {end - start:.4f} seconds\")\n",
    "print(f\"Macro F1: {f1:.4f}\")\n",
    "print(f\"F1 score for negative class: \" f\"{f1s[0]:.4f}\")\n",
    "print(f\"F1 score for neutral class: \" f\"{f1s[1]:.4f}\")\n",
    "print(f\"F1 score for positive class: \" f\"{f1s[2]:.4f}\")"
   ]
  }
 ],
 "metadata": {
  "kernelspec": {
   "display_name": "fyp",
   "language": "python",
   "name": "python3"
  },
  "language_info": {
   "codemirror_mode": {
    "name": "ipython",
    "version": 3
   },
   "file_extension": ".py",
   "mimetype": "text/x-python",
   "name": "python",
   "nbconvert_exporter": "python",
   "pygments_lexer": "ipython3",
   "version": "3.10.12"
  }
 },
 "nbformat": 4,
 "nbformat_minor": 2
}
