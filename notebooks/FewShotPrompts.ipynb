{
 "cells": [
  {
   "cell_type": "code",
   "execution_count": null,
   "metadata": {},
   "outputs": [],
   "source": [
    "import sys\n",
    "import os\n",
    "\n",
    "notebook_dir = os.getcwd()\n",
    "parent_dir = os.path.dirname(notebook_dir)\n",
    "# Fix module imports\n",
    "if parent_dir not in sys.path:\n",
    "    sys.path.append(parent_dir)"
   ]
  },
  {
   "cell_type": "code",
   "execution_count": null,
   "metadata": {},
   "outputs": [],
   "source": [
    "from qgpt2_models import MultiHeadsQGPT2Model\n",
    "\n",
    "from load_huggingface import get_gpt2_tokenizer\n",
    "import torch\n",
    "import pandas as pd\n",
    "\n",
    "from transformers import AutoModelForSequenceClassification, AutoTokenizer, GPT2ForSequenceClassification, GPT2Tokenizer, Trainer, TrainingArguments\n",
    "\n",
    "# model = MultiHeadsQGPT2Model.from_pretrained(\"gpt2_model\", n_bits=8,use_cache=False).to(\"cuda\")\n",
    "\n",
    "model = AutoModelForSequenceClassification.from_pretrained(\"gpt2\", num_labels=3)\n",
    "tokenizer = GPT2Tokenizer.from_pretrained(\"openai-community/gpt2\")"
   ]
  },
  {
   "cell_type": "code",
   "execution_count": null,
   "metadata": {},
   "outputs": [],
   "source": [
    "# input = \"What is the meaning of life\"\n",
    "\n",
    "# input_ids = tokenizer(input, return_tensors=\"pt\")\n",
    "\n",
    "# output_ids = model.generate(**input_ids, max_new_tokens=20)\n",
    "# tokenizer.decode(output_ids[0])"
   ]
  }
 ],
 "metadata": {
  "kernelspec": {
   "display_name": "fyp",
   "language": "python",
   "name": "python3"
  },
  "language_info": {
   "name": "python",
   "version": "3.10.12"
  }
 },
 "nbformat": 4,
 "nbformat_minor": 2
}
