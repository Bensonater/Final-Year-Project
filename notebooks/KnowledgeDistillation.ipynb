{
 "cells": [
  {
   "cell_type": "code",
   "execution_count": 1,
   "metadata": {},
   "outputs": [],
   "source": [
    "import sys\n",
    "import os\n",
    "from logging import getLogger, ERROR\n",
    "\n",
    "notebook_dir = os.getcwd()\n",
    "parent_dir = os.path.dirname(notebook_dir)\n",
    "# Fix module imports\n",
    "if parent_dir not in sys.path:\n",
    "    sys.path.append(parent_dir)\n",
    "\n",
    "# Disable Hugging Face warnings\n",
    "getLogger(\"transformers.modeling_utils\").setLevel(ERROR)"
   ]
  },
  {
   "cell_type": "code",
   "execution_count": 2,
   "metadata": {},
   "outputs": [
    {
     "name": "stderr",
     "output_type": "stream",
     "text": [
      "/data/bz620/fyp/lib/python3.10/site-packages/tqdm/auto.py:21: TqdmWarning: IProgress not found. Please update jupyter and ipywidgets. See https://ipywidgets.readthedocs.io/en/stable/user_install.html\n",
      "  from .autonotebook import tqdm as notebook_tqdm\n"
     ]
    }
   ],
   "source": [
    "from model.qgpt2_models import QGPT2ClassificationModel\n",
    "\n",
    "from pandas import read_csv, DataFrame\n",
    "from datasets import Dataset, load_metric\n",
    "from sklearn.metrics import f1_score\n",
    "\n",
    "from transformers import GPT2ForSequenceClassification, GPT2Tokenizer, Trainer, TrainingArguments\n",
    "\n",
    "gpt2_model = GPT2ForSequenceClassification.from_pretrained(\"gpt2\", num_labels=3)\n",
    "tokenizer = GPT2Tokenizer.from_pretrained(\"openai-community/gpt2\")"
   ]
  },
  {
   "cell_type": "code",
   "execution_count": 3,
   "metadata": {},
   "outputs": [],
   "source": [
    "def tokenize_function(examples, padding=\"max_length\"):\n",
    "    return tokenizer(examples[\"text\"], padding=padding, truncation=True, max_length=128)\n",
    "\n",
    "tokenizer.pad_token = tokenizer.eos_token\n",
    "gpt2_model.config.pad_token_id = gpt2_model.config.eos_token_id"
   ]
  },
  {
   "cell_type": "code",
   "execution_count": 4,
   "metadata": {},
   "outputs": [
    {
     "name": "stderr",
     "output_type": "stream",
     "text": [
      "/tmp/ipykernel_3996552/2424012294.py:2: FutureWarning: Downcasting behavior in `replace` is deprecated and will be removed in a future version. To retain the old behavior, explicitly call `result.infer_objects(copy=False)`. To opt-in to the future behavior, set `pd.set_option('future.no_silent_downcasting', True)`\n",
      "  df['airline_sentiment'] = df['airline_sentiment'].replace([\"negative\", \"neutral\", \"positive\"], [0, 1, 2])\n"
     ]
    }
   ],
   "source": [
    "df = read_csv(\"../data/Tweets.csv\")\n",
    "df['airline_sentiment'] = df['airline_sentiment'].replace([\"negative\", \"neutral\", \"positive\"], [0, 1, 2])\n",
    "\n",
    "dataset = Dataset.from_pandas(df)\n",
    "dataset = dataset.select_columns([\"text\", \"airline_sentiment\"])\n",
    "dataset = dataset.rename_column(\"airline_sentiment\", \"label\")"
   ]
  },
  {
   "cell_type": "code",
   "execution_count": 5,
   "metadata": {},
   "outputs": [
    {
     "name": "stderr",
     "output_type": "stream",
     "text": [
      "Map: 100%|██████████| 13176/13176 [00:02<00:00, 6293.22 examples/s]\n",
      "Map: 100%|██████████| 1464/1464 [00:00<00:00, 5287.92 examples/s]\n"
     ]
    }
   ],
   "source": [
    "train_and_eval = dataset.train_test_split(test_size=0.1, seed = 42)\n",
    "\n",
    "train_ds = train_and_eval[\"train\"]\n",
    "eval_ds = train_and_eval[\"test\"]\n",
    "\n",
    "gpt2_train_ds = train_ds.map(tokenize_function, batched=True)\n",
    "gpt2_eval_ds = eval_ds.map(tokenize_function, batched=True)\n",
    "\n",
    "gpt2_train_ds.set_format(type='torch', columns=['input_ids', 'attention_mask', 'label'])\n",
    "gpt2_eval_ds.set_format(type='torch', columns=['input_ids', 'attention_mask', 'label'])"
   ]
  },
  {
   "cell_type": "code",
   "execution_count": 8,
   "metadata": {},
   "outputs": [],
   "source": [
    "def compute_metrics(pred):\n",
    "    labels = pred.label_ids\n",
    "    preds = pred.predictions.argmax(-1)\n",
    "    f1 = load_metric('f1').compute(predictions=preds, references=labels, average='weighted')\n",
    "    return {\n",
    "        'f1': f1,\n",
    "    }"
   ]
  },
  {
   "cell_type": "code",
   "execution_count": 6,
   "metadata": {},
   "outputs": [],
   "source": [
    "training_args = TrainingArguments(\n",
    "    report_to=\"none\",\n",
    "    output_dir=\"/data/bz620/model_outputs\",\n",
    "    learning_rate=2e-5,\n",
    "    per_device_train_batch_size=16,\n",
    "    num_train_epochs=3,\n",
    "    weight_decay=0.01,\n",
    ")\n",
    "\n",
    "trainer = Trainer(\n",
    "    model=gpt2_model,\n",
    "    args=training_args,\n",
    "    train_dataset=gpt2_train_ds,\n",
    "    eval_dataset=gpt2_eval_ds,\n",
    "    compute_metrics=compute_metrics,\n",
    ")\n",
    "\n",
    "trainer.train()"
   ]
  },
  {
   "cell_type": "code",
   "execution_count": 21,
   "metadata": {},
   "outputs": [
    {
     "name": "stderr",
     "output_type": "stream",
     "text": [
      "/data/bz620/fyp/lib/python3.10/site-packages/datasets/load.py:753: FutureWarning: The repository for f1 contains custom code which must be executed to correctly load the metric. You can inspect the repository content at https://raw.githubusercontent.com/huggingface/datasets/2.17.0/metrics/f1/f1.py\n",
      "You can avoid this message in future by passing the argument `trust_remote_code=True`.\n",
      "Passing `trust_remote_code=True` will be mandatory to load this metric from the next major release of `datasets`.\n",
      "  warnings.warn(\n"
     ]
    }
   ],
   "source": [
    "# Generate labels on an unseen test dataset\n",
    "\n",
    "predictions = trainer.predict(eval_ds)\n",
    "preds = predictions.predictions.argmax(-1)\n",
    "labels = predictions.label_ids\n",
    "\n",
    "# 4. Create a result dataset\n",
    "teacher_results = DataFrame({\n",
    "    'text': eval_ds['text'],\n",
    "    'true_label': labels,\n",
    "    'predicted_label': preds\n",
    "})"
   ]
  },
  {
   "cell_type": "code",
   "execution_count": 22,
   "metadata": {},
   "outputs": [
    {
     "data": {
      "text/plain": [
       "0.7871517902680556"
      ]
     },
     "execution_count": 22,
     "metadata": {},
     "output_type": "execute_result"
    }
   ],
   "source": [
    "f1_score(teacher_results[\"true_label\"], teacher_results[\"predicted_label\"], average=\"macro\")"
   ]
  },
  {
   "cell_type": "code",
   "execution_count": 11,
   "metadata": {},
   "outputs": [],
   "source": [
    "save_directory = './saved_model'\n",
    "gpt2_model.save_pretrained(save_directory)"
   ]
  },
  {
   "cell_type": "code",
   "execution_count": 12,
   "metadata": {},
   "outputs": [],
   "source": [
    "# Load pre-trained weights on our custom GPT-2 \n",
    "fhe_model = QGPT2ClassificationModel.from_pretrained(\"./saved_model\", n_bits=8,use_cache=False, num_labels=3)\n",
    "fhe_model.config.pad_token_id = fhe_model.config.eos_token_id\n"
   ]
  },
  {
   "cell_type": "code",
   "execution_count": 20,
   "metadata": {},
   "outputs": [
    {
     "data": {
      "text/html": [],
      "text/plain": [
       "<IPython.core.display.HTML object>"
      ]
     },
     "metadata": {},
     "output_type": "display_data"
    },
    {
     "name": "stderr",
     "output_type": "stream",
     "text": [
      "/tmp/ipykernel_3996552/3827715802.py:4: FutureWarning: load_metric is deprecated and will be removed in the next major version of datasets. Use 'evaluate.load' instead, from the new library 🤗 Evaluate: https://huggingface.co/docs/evaluate\n",
      "  f1 = load_metric('f1').compute(predictions=preds, references=labels, average='weighted')\n",
      "/data/bz620/fyp/lib/python3.10/site-packages/datasets/load.py:753: FutureWarning: The repository for f1 contains custom code which must be executed to correctly load the metric. You can inspect the repository content at https://raw.githubusercontent.com/huggingface/datasets/2.17.0/metrics/f1/f1.py\n",
      "You can avoid this message in future by passing the argument `trust_remote_code=True`.\n",
      "Passing `trust_remote_code=True` will be mandatory to load this metric from the next major release of `datasets`.\n",
      "  warnings.warn(\n"
     ]
    },
    {
     "data": {
      "text/plain": [
       "{'eval_loss': 0.45116475224494934,\n",
       " 'eval_f1': {'f1': 0.836558976317662},\n",
       " 'eval_runtime': 111.3141,\n",
       " 'eval_samples_per_second': 13.152,\n",
       " 'eval_steps_per_second': 1.644}"
      ]
     },
     "execution_count": 20,
     "metadata": {},
     "output_type": "execute_result"
    }
   ],
   "source": [
    "training_args.use_cpu=True\n",
    "\n",
    "trainer = Trainer(\n",
    "    model=fhe_model,\n",
    "    args=training_args,\n",
    "    train_dataset=gpt2_train_ds,\n",
    "    eval_dataset=gpt2_eval_ds,\n",
    "    compute_metrics=compute_metrics,\n",
    ")\n",
    "\n",
    "trainer.evaluate()"
   ]
  },
  {
   "cell_type": "markdown",
   "metadata": {},
   "source": [
    "### Training the student model with teacher labels"
   ]
  },
  {
   "cell_type": "code",
   "execution_count": 39,
   "metadata": {},
   "outputs": [
    {
     "name": "stderr",
     "output_type": "stream",
     "text": [
      "Map: 100%|██████████| 1464/1464 [00:00<00:00, 3018.98 examples/s]\n",
      "Map: 100%|██████████| 1464/1464 [00:00<00:00, 3030.13 examples/s]\n"
     ]
    },
    {
     "data": {
      "text/html": [
       "\n",
       "    <div>\n",
       "      \n",
       "      <progress value='184' max='184' style='width:300px; height:20px; vertical-align: middle;'></progress>\n",
       "      [184/184 00:14, Epoch 2/2]\n",
       "    </div>\n",
       "    <table border=\"1\" class=\"dataframe\">\n",
       "  <thead>\n",
       " <tr style=\"text-align: left;\">\n",
       "      <th>Step</th>\n",
       "      <th>Training Loss</th>\n",
       "    </tr>\n",
       "  </thead>\n",
       "  <tbody>\n",
       "  </tbody>\n",
       "</table><p>"
      ],
      "text/plain": [
       "<IPython.core.display.HTML object>"
      ]
     },
     "metadata": {},
     "output_type": "display_data"
    },
    {
     "data": {
      "text/plain": [
       "TrainOutput(global_step=184, training_loss=0.5968053237251614, metrics={'train_runtime': 14.5742, 'train_samples_per_second': 200.903, 'train_steps_per_second': 12.625, 'total_flos': 96967865069568.0, 'train_loss': 0.5968053237251614, 'epoch': 2.0})"
      ]
     },
     "execution_count": 39,
     "metadata": {},
     "output_type": "execute_result"
    }
   ],
   "source": [
    "from transformers import DistilBertForSequenceClassification, DistilBertTokenizer\n",
    "\n",
    "# Load the student model and tokenizer\n",
    "student_model = DistilBertForSequenceClassification.from_pretrained('distilbert-base-uncased', num_labels=3)\n",
    "tokenizer = DistilBertTokenizer.from_pretrained('distilbert-base-uncased')\n",
    "\n",
    "# tokenizer.pad_token = tokenizer.eos_token\n",
    "student_model.config.pad_token_id = student_model.config.eos_token_id\n",
    "\n",
    "# REMOVE THIS!\n",
    "# teacher_results[\"label\"] = teacher_results[\"predicted_label\"].astype(\"int\")\n",
    "\n",
    "# Tokenize the inputs\n",
    "student_train = Dataset.from_pandas(teacher_results)\n",
    "student_train = student_train.map(tokenize_function, batched=True)\n",
    "student_train.set_format(\"torch\", columns=['input_ids', 'attention_mask', 'label'])\n",
    "\n",
    "\n",
    "eval_ds = train_and_eval[\"test\"]\n",
    "eval_ds = eval_ds.map(tokenize_function, batched=True)\n",
    "eval_ds.set_format(\"torch\", columns=['input_ids', 'attention_mask', 'label'])\n",
    "\n",
    "\n",
    "\n",
    "training_args = TrainingArguments(\n",
    "   report_to=\"none\",\n",
    "   output_dir=\"/data/bz620/model_outputs\",\n",
    "   learning_rate=2e-5,\n",
    "   per_device_train_batch_size=16,\n",
    "   per_device_eval_batch_size=16,\n",
    "   num_train_epochs=2,\n",
    "   weight_decay=0.01,\n",
    "   save_strategy=\"epoch\"\n",
    ")\n",
    " \n",
    "trainer = Trainer(\n",
    "   model=student_model,\n",
    "   args=training_args,\n",
    "   train_dataset=student_train,\n",
    "   eval_dataset=eval_ds,\n",
    "   tokenizer=tokenizer,\n",
    "   compute_metrics=compute_metrics,\n",
    ")\n",
    "\n",
    "\n",
    "trainer.train()\n"
   ]
  },
  {
   "cell_type": "code",
   "execution_count": 40,
   "metadata": {},
   "outputs": [
    {
     "data": {
      "text/html": [
       "\n",
       "    <div>\n",
       "      \n",
       "      <progress value='92' max='92' style='width:300px; height:20px; vertical-align: middle;'></progress>\n",
       "      [92/92 00:01]\n",
       "    </div>\n",
       "    "
      ],
      "text/plain": [
       "<IPython.core.display.HTML object>"
      ]
     },
     "metadata": {},
     "output_type": "display_data"
    },
    {
     "name": "stderr",
     "output_type": "stream",
     "text": [
      "/data/bz620/fyp/lib/python3.10/site-packages/datasets/load.py:753: FutureWarning: The repository for f1 contains custom code which must be executed to correctly load the metric. You can inspect the repository content at https://raw.githubusercontent.com/huggingface/datasets/2.17.0/metrics/f1/f1.py\n",
      "You can avoid this message in future by passing the argument `trust_remote_code=True`.\n",
      "Passing `trust_remote_code=True` will be mandatory to load this metric from the next major release of `datasets`.\n",
      "  warnings.warn(\n"
     ]
    },
    {
     "data": {
      "text/plain": [
       "{'eval_loss': 0.4768294095993042,\n",
       " 'eval_f1': {'f1': 0.8169720267083462},\n",
       " 'eval_runtime': 2.6299,\n",
       " 'eval_samples_per_second': 556.668,\n",
       " 'eval_steps_per_second': 34.982,\n",
       " 'epoch': 2.0}"
      ]
     },
     "execution_count": 40,
     "metadata": {},
     "output_type": "execute_result"
    }
   ],
   "source": [
    "trainer.evaluate()"
   ]
  },
  {
   "cell_type": "code",
   "execution_count": null,
   "metadata": {},
   "outputs": [],
   "source": [
    "student_test_ds = test_ds.map(tokenize_function, batched=True)\n",
    "student_test_ds.set_format(type='torch', columns=['input_ids', 'attention_mask', 'label'])\n",
    "\n",
    "predictions = trainer.predict(student_test_ds)\n",
    "preds = predictions.predictions.argmax(-1)\n",
    "labels = predictions.label_ids\n",
    "\n",
    "# 4. Create a result dataset\n",
    "student_results = DataFrame({\n",
    "    'text': test_ds['text'],\n",
    "    'true_label': labels,\n",
    "    'predicted_label': preds\n",
    "})\n",
    "\n",
    "f1_score(student_results[\"true_label\"], teacher_results[\"predicted_label\"], average=\"macro\")"
   ]
  },
  {
   "cell_type": "markdown",
   "metadata": {},
   "source": [
    "### Training the student model with true labels"
   ]
  },
  {
   "cell_type": "code",
   "execution_count": 36,
   "metadata": {},
   "outputs": [
    {
     "name": "stderr",
     "output_type": "stream",
     "text": [
      "Map: 100%|██████████| 13176/13176 [00:04<00:00, 2997.81 examples/s]\n",
      "Map: 100%|██████████| 1464/1464 [00:00<00:00, 2952.34 examples/s]\n"
     ]
    },
    {
     "data": {
      "text/html": [
       "\n",
       "    <div>\n",
       "      \n",
       "      <progress value='1648' max='1648' style='width:300px; height:20px; vertical-align: middle;'></progress>\n",
       "      [1648/1648 01:59, Epoch 2/2]\n",
       "    </div>\n",
       "    <table border=\"1\" class=\"dataframe\">\n",
       "  <thead>\n",
       " <tr style=\"text-align: left;\">\n",
       "      <th>Step</th>\n",
       "      <th>Training Loss</th>\n",
       "    </tr>\n",
       "  </thead>\n",
       "  <tbody>\n",
       "    <tr>\n",
       "      <td>500</td>\n",
       "      <td>0.555600</td>\n",
       "    </tr>\n",
       "    <tr>\n",
       "      <td>1000</td>\n",
       "      <td>0.413500</td>\n",
       "    </tr>\n",
       "    <tr>\n",
       "      <td>1500</td>\n",
       "      <td>0.327100</td>\n",
       "    </tr>\n",
       "  </tbody>\n",
       "</table><p>"
      ],
      "text/plain": [
       "<IPython.core.display.HTML object>"
      ]
     },
     "metadata": {},
     "output_type": "display_data"
    },
    {
     "data": {
      "text/plain": [
       "TrainOutput(global_step=1648, training_loss=0.42354471243700936, metrics={'train_runtime': 119.6314, 'train_samples_per_second': 220.277, 'train_steps_per_second': 13.776, 'total_flos': 872710785626112.0, 'train_loss': 0.42354471243700936, 'epoch': 2.0})"
      ]
     },
     "execution_count": 36,
     "metadata": {},
     "output_type": "execute_result"
    }
   ],
   "source": [
    "from transformers import DistilBertForSequenceClassification, DistilBertTokenizer\n",
    "\n",
    "# Load the student model and tokenizer\n",
    "student_model = DistilBertForSequenceClassification.from_pretrained('distilbert-base-uncased', num_labels=3)\n",
    "tokenizer = DistilBertTokenizer.from_pretrained('distilbert-base-uncased')\n",
    "\n",
    "# tokenizer.pad_token = tokenizer.eos_token\n",
    "student_model.config.pad_token_id = student_model.config.eos_token_id\n",
    "\n",
    "student_train = train_ds\n",
    "student_train = student_train.map(tokenize_function, batched=True)\n",
    "student_train.set_format(\"torch\", columns=['input_ids', 'attention_mask', 'label'])\n",
    "\n",
    "\n",
    "eval_ds = train_and_eval[\"test\"]\n",
    "eval_ds = eval_ds.map(tokenize_function, batched=True)\n",
    "eval_ds.set_format(\"torch\", columns=['input_ids', 'attention_mask', 'label'])\n",
    "\n",
    "\n",
    "training_args = TrainingArguments(\n",
    "   report_to=\"none\",\n",
    "   output_dir=\"/data/bz620/model_outputs\",\n",
    "   learning_rate=2e-5,\n",
    "   per_device_train_batch_size=16,\n",
    "   per_device_eval_batch_size=16,\n",
    "   num_train_epochs=2,\n",
    "   weight_decay=0.01,\n",
    "   save_strategy=\"epoch\"\n",
    ")\n",
    "\n",
    "trainer = Trainer(\n",
    "   model=student_model,\n",
    "   args=training_args,\n",
    "   train_dataset=student_train,\n",
    "   eval_dataset=eval_ds,\n",
    "   tokenizer=tokenizer,\n",
    "   compute_metrics=compute_metrics,\n",
    ")\n",
    "\n",
    "trainer.train()"
   ]
  },
  {
   "cell_type": "code",
   "execution_count": 38,
   "metadata": {},
   "outputs": [
    {
     "data": {
      "text/html": [
       "\n",
       "    <div>\n",
       "      \n",
       "      <progress value='2' max='92' style='width:300px; height:20px; vertical-align: middle;'></progress>\n",
       "      [ 2/92 00:00 < 00:02, 35.47 it/s]\n",
       "    </div>\n",
       "    "
      ],
      "text/plain": [
       "<IPython.core.display.HTML object>"
      ]
     },
     "metadata": {},
     "output_type": "display_data"
    },
    {
     "name": "stderr",
     "output_type": "stream",
     "text": [
      "/data/bz620/fyp/lib/python3.10/site-packages/datasets/load.py:753: FutureWarning: The repository for f1 contains custom code which must be executed to correctly load the metric. You can inspect the repository content at https://raw.githubusercontent.com/huggingface/datasets/2.17.0/metrics/f1/f1.py\n",
      "You can avoid this message in future by passing the argument `trust_remote_code=True`.\n",
      "Passing `trust_remote_code=True` will be mandatory to load this metric from the next major release of `datasets`.\n",
      "  warnings.warn(\n"
     ]
    },
    {
     "data": {
      "text/plain": [
       "{'eval_loss': 0.39487704634666443,\n",
       " 'eval_f1': {'f1': 0.8457976964809895},\n",
       " 'eval_runtime': 2.6028,\n",
       " 'eval_samples_per_second': 562.479,\n",
       " 'eval_steps_per_second': 35.347,\n",
       " 'epoch': 2.0}"
      ]
     },
     "execution_count": 38,
     "metadata": {},
     "output_type": "execute_result"
    }
   ],
   "source": [
    "trainer.evaluate()"
   ]
  }
 ],
 "metadata": {
  "kernelspec": {
   "display_name": "fyp",
   "language": "python",
   "name": "python3"
  },
  "language_info": {
   "codemirror_mode": {
    "name": "ipython",
    "version": 3
   },
   "file_extension": ".py",
   "mimetype": "text/x-python",
   "name": "python",
   "nbconvert_exporter": "python",
   "pygments_lexer": "ipython3",
   "version": "3.10.12"
  }
 },
 "nbformat": 4,
 "nbformat_minor": 2
}
