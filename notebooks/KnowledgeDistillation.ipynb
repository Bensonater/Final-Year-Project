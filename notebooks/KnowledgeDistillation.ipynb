{
 "cells": [
  {
   "cell_type": "code",
   "execution_count": 1,
   "metadata": {},
   "outputs": [],
   "source": [
    "import sys\n",
    "import os\n",
    "from logging import getLogger, ERROR\n",
    "\n",
    "notebook_dir = os.getcwd()\n",
    "parent_dir = os.path.dirname(notebook_dir)\n",
    "# Fix module imports\n",
    "if parent_dir not in sys.path:\n",
    "    sys.path.append(parent_dir)\n",
    "\n",
    "# Disable Hugging Face warnings\n",
    "getLogger(\"transformers.modeling_utils\").setLevel(ERROR)"
   ]
  },
  {
   "cell_type": "code",
   "execution_count": 2,
   "metadata": {},
   "outputs": [
    {
     "name": "stderr",
     "output_type": "stream",
     "text": [
      "/data/bz620/fyp/lib/python3.10/site-packages/tqdm/auto.py:21: TqdmWarning: IProgress not found. Please update jupyter and ipywidgets. See https://ipywidgets.readthedocs.io/en/stable/user_install.html\n",
      "  from .autonotebook import tqdm as notebook_tqdm\n"
     ]
    }
   ],
   "source": [
    "from model.qgpt2_models import QGPT2ClassificationModel\n",
    "from pandas import read_csv, DataFrame\n",
    "from datasets import Dataset, load_metric\n",
    "from sklearn.metrics import f1_score,precision_recall_fscore_support\n",
    "\n",
    "from transformers import (\n",
    "    GPT2ForSequenceClassification,\n",
    "    GPT2Tokenizer,\n",
    "    Trainer,\n",
    "    TrainingArguments,\n",
    ")\n",
    "\n",
    "gpt2_model = GPT2ForSequenceClassification.from_pretrained(\"gpt2\", num_labels=3)\n",
    "tokenizer = GPT2Tokenizer.from_pretrained(\"openai-community/gpt2\")"
   ]
  },
  {
   "cell_type": "code",
   "execution_count": 3,
   "metadata": {},
   "outputs": [],
   "source": [
    "def tokenize_function(examples, padding=\"max_length\"):\n",
    "    return tokenizer(examples[\"text\"], padding=padding, truncation=True, max_length=128)\n",
    "\n",
    "\n",
    "tokenizer.pad_token = tokenizer.eos_token\n",
    "gpt2_model.config.pad_token_id = gpt2_model.config.eos_token_id"
   ]
  },
  {
   "cell_type": "code",
   "execution_count": 4,
   "metadata": {},
   "outputs": [
    {
     "name": "stderr",
     "output_type": "stream",
     "text": [
      "/tmp/ipykernel_1249626/3210912142.py:2: FutureWarning: Downcasting behavior in `replace` is deprecated and will be removed in a future version. To retain the old behavior, explicitly call `result.infer_objects(copy=False)`. To opt-in to the future behavior, set `pd.set_option('future.no_silent_downcasting', True)`\n",
      "  df[\"airline_sentiment\"] = df[\"airline_sentiment\"].replace(\n"
     ]
    }
   ],
   "source": [
    "df = read_csv(\"../data/Tweets.csv\")\n",
    "df[\"airline_sentiment\"] = df[\"airline_sentiment\"].replace(\n",
    "    [\"negative\", \"neutral\", \"positive\"], [0, 1, 2]\n",
    ")\n",
    "\n",
    "dataset = Dataset.from_pandas(df)\n",
    "dataset = dataset.select_columns([\"text\", \"airline_sentiment\"])\n",
    "dataset = dataset.rename_column(\"airline_sentiment\", \"label\")"
   ]
  },
  {
   "cell_type": "code",
   "execution_count": 5,
   "metadata": {},
   "outputs": [
    {
     "name": "stderr",
     "output_type": "stream",
     "text": [
      "Map: 100%|██████████| 13176/13176 [00:02<00:00, 6216.35 examples/s]\n",
      "Map: 100%|██████████| 1464/1464 [00:00<00:00, 5264.46 examples/s]\n"
     ]
    }
   ],
   "source": [
    "train_and_eval = dataset.train_test_split(test_size=0.1, seed=42)\n",
    "\n",
    "train_ds = train_and_eval[\"train\"]\n",
    "eval_ds = train_and_eval[\"test\"]\n",
    "\n",
    "gpt2_train_ds = train_ds.map(tokenize_function, batched=True)\n",
    "gpt2_eval_ds = eval_ds.map(tokenize_function, batched=True)\n",
    "\n",
    "gpt2_train_ds.set_format(type=\"torch\", columns=[\"input_ids\", \"attention_mask\", \"label\"])\n",
    "gpt2_eval_ds.set_format(type=\"torch\", columns=[\"input_ids\", \"attention_mask\", \"label\"])"
   ]
  },
  {
   "cell_type": "code",
   "execution_count": 6,
   "metadata": {},
   "outputs": [],
   "source": [
    "def compute_metrics(pred):\n",
    "    labels = pred.label_ids\n",
    "    preds = pred.predictions.argmax(-1)\n",
    "\n",
    "    f1 = f1_score(\n",
    "    labels, preds, average=\"macro\"\n",
    "    )\n",
    "\n",
    "    f1s = f1_score(\n",
    "        labels, preds, average=None\n",
    "    )\n",
    "\n",
    "    return {\n",
    "        \"Macro F1\": f\"{f1:.4f}\",\n",
    "        'F1 score for negative class': f\"{f1s[0]:.4f}\",\n",
    "        'F1 score for neutral class': f\"{f1s[1]:.4f}\",\n",
    "        'F1 score for positive class': f\"{f1s[2]:.4f}\"\n",
    "    }"
   ]
  },
  {
   "cell_type": "code",
   "execution_count": 9,
   "metadata": {},
   "outputs": [
    {
     "data": {
      "text/html": [
       "\n",
       "    <div>\n",
       "      \n",
       "      <progress value='2472' max='2472' style='width:300px; height:20px; vertical-align: middle;'></progress>\n",
       "      [2472/2472 02:30, Epoch 3/3]\n",
       "    </div>\n",
       "    <table border=\"1\" class=\"dataframe\">\n",
       "  <thead>\n",
       " <tr style=\"text-align: left;\">\n",
       "      <th>Step</th>\n",
       "      <th>Training Loss</th>\n",
       "    </tr>\n",
       "  </thead>\n",
       "  <tbody>\n",
       "    <tr>\n",
       "      <td>500</td>\n",
       "      <td>0.856900</td>\n",
       "    </tr>\n",
       "    <tr>\n",
       "      <td>1000</td>\n",
       "      <td>0.821700</td>\n",
       "    </tr>\n",
       "    <tr>\n",
       "      <td>1500</td>\n",
       "      <td>0.790600</td>\n",
       "    </tr>\n",
       "    <tr>\n",
       "      <td>2000</td>\n",
       "      <td>0.775700</td>\n",
       "    </tr>\n",
       "  </tbody>\n",
       "</table><p>"
      ],
      "text/plain": [
       "<IPython.core.display.HTML object>"
      ]
     },
     "metadata": {},
     "output_type": "display_data"
    },
    {
     "data": {
      "text/plain": [
       "TrainOutput(global_step=2472, training_loss=0.8039891141132244, metrics={'train_runtime': 150.796, 'train_samples_per_second': 262.129, 'train_steps_per_second': 16.393, 'total_flos': 2582157803913216.0, 'train_loss': 0.8039891141132244, 'epoch': 3.0})"
      ]
     },
     "execution_count": 9,
     "metadata": {},
     "output_type": "execute_result"
    }
   ],
   "source": [
    "for param in gpt2_model.transformer.parameters():\n",
    "    param.requires_grad = False\n",
    "\n",
    "\n",
    "training_args = TrainingArguments(\n",
    "    report_to=\"none\",\n",
    "    output_dir=\"/data/bz620/model_outputs\",\n",
    "    learning_rate=2e-5,\n",
    "    per_device_train_batch_size=16,\n",
    "    num_train_epochs=3,\n",
    "    weight_decay=0.01,\n",
    ")\n",
    "\n",
    "trainer = Trainer(\n",
    "    model=gpt2_model,\n",
    "    args=training_args,\n",
    "    train_dataset=gpt2_train_ds,\n",
    "    eval_dataset=gpt2_eval_ds,\n",
    "    compute_metrics=compute_metrics,\n",
    ")\n",
    "\n",
    "trainer.train()"
   ]
  },
  {
   "cell_type": "code",
   "execution_count": 10,
   "metadata": {},
   "outputs": [
    {
     "data": {
      "text/html": [
       "\n",
       "    <div>\n",
       "      \n",
       "      <progress value='183' max='183' style='width:300px; height:20px; vertical-align: middle;'></progress>\n",
       "      [183/183 00:04]\n",
       "    </div>\n",
       "    "
      ],
      "text/plain": [
       "<IPython.core.display.HTML object>"
      ]
     },
     "metadata": {},
     "output_type": "display_data"
    },
    {
     "data": {
      "text/plain": [
       "{'eval_loss': 0.7088010311126709,\n",
       " 'eval_Macro F1': '0.4302',\n",
       " 'eval_F1 score for negative class': '0.8135',\n",
       " 'eval_F1 score for neutral class': '0.0577',\n",
       " 'eval_F1 score for positive class': '0.4194',\n",
       " 'eval_runtime': 4.7225,\n",
       " 'eval_samples_per_second': 310.005,\n",
       " 'eval_steps_per_second': 38.751,\n",
       " 'epoch': 3.0}"
      ]
     },
     "execution_count": 10,
     "metadata": {},
     "output_type": "execute_result"
    }
   ],
   "source": [
    "trainer.evaluate()"
   ]
  },
  {
   "cell_type": "code",
   "execution_count": 15,
   "metadata": {},
   "outputs": [
    {
     "data": {
      "text/html": [],
      "text/plain": [
       "<IPython.core.display.HTML object>"
      ]
     },
     "metadata": {},
     "output_type": "display_data"
    },
    {
     "name": "stderr",
     "output_type": "stream",
     "text": [
      "/tmp/ipykernel_198159/574858251.py:4: FutureWarning: load_metric is deprecated and will be removed in the next major version of datasets. Use 'evaluate.load' instead, from the new library 🤗 Evaluate: https://huggingface.co/docs/evaluate\n",
      "  f1 = load_metric(\"f1\").compute(\n",
      "/data/bz620/fyp/lib/python3.10/site-packages/datasets/load.py:753: FutureWarning: The repository for f1 contains custom code which must be executed to correctly load the metric. You can inspect the repository content at https://raw.githubusercontent.com/huggingface/datasets/2.17.0/metrics/f1/f1.py\n",
      "You can avoid this message in future by passing the argument `trust_remote_code=True`.\n",
      "Passing `trust_remote_code=True` will be mandatory to load this metric from the next major release of `datasets`.\n",
      "  warnings.warn(\n"
     ]
    }
   ],
   "source": [
    "def predict_labels(model, df):\n",
    "    return model.predict(df).predictions.argmax(-1)\n",
    "\n",
    "\n",
    "gpt2_preds = predict_labels(trainer, gpt2_train_ds)\n",
    "\n",
    "teacher_results = DataFrame(\n",
    "    {\n",
    "        \"text\": gpt2_train_ds[\"text\"],\n",
    "        \"true_label\": gpt2_train_ds[\"label\"],\n",
    "        \"gpt2_preds\": gpt2_preds,\n",
    "    }\n",
    ")"
   ]
  },
  {
   "cell_type": "code",
   "execution_count": 9,
   "metadata": {},
   "outputs": [],
   "source": [
    "gpt2_model.save_pretrained(\"./saved_model\")"
   ]
  },
  {
   "cell_type": "code",
   "execution_count": 8,
   "metadata": {},
   "outputs": [],
   "source": [
    "# Load pre-trained weights on our custom GPT-2\n",
    "fhe_model = QGPT2ClassificationModel.from_pretrained(\n",
    "    \"./saved_model\", n_bits=8, use_cache=False, num_labels=3\n",
    ")\n",
    "fhe_model.config.pad_token_id = fhe_model.config.eos_token_id"
   ]
  },
  {
   "cell_type": "code",
   "execution_count": 17,
   "metadata": {},
   "outputs": [
    {
     "data": {
      "text/html": [],
      "text/plain": [
       "<IPython.core.display.HTML object>"
      ]
     },
     "metadata": {},
     "output_type": "display_data"
    },
    {
     "name": "stderr",
     "output_type": "stream",
     "text": [
      "/data/bz620/fyp/lib/python3.10/site-packages/datasets/load.py:753: FutureWarning: The repository for f1 contains custom code which must be executed to correctly load the metric. You can inspect the repository content at https://raw.githubusercontent.com/huggingface/datasets/2.17.0/metrics/f1/f1.py\n",
      "You can avoid this message in future by passing the argument `trust_remote_code=True`.\n",
      "Passing `trust_remote_code=True` will be mandatory to load this metric from the next major release of `datasets`.\n",
      "  warnings.warn(\n"
     ]
    }
   ],
   "source": [
    "fhe_training_args = TrainingArguments(\n",
    "    report_to=\"none\",\n",
    "    output_dir=\"/data/bz620/model_outputs\",\n",
    "    learning_rate=2e-5,\n",
    "    per_device_train_batch_size=16,\n",
    "    num_train_epochs=3,\n",
    "    weight_decay=0.01,\n",
    "    use_cpu=True,\n",
    ")\n",
    "\n",
    "fhe_trainer = Trainer(\n",
    "    model=fhe_model,\n",
    "    args=fhe_training_args,\n",
    "    train_dataset=gpt2_train_ds,\n",
    "    eval_dataset=gpt2_eval_ds,\n",
    "    compute_metrics=compute_metrics,\n",
    ")\n",
    "\n",
    "teacher_results[\"fhe_preds\"] = predict_labels(fhe_trainer, gpt2_train_ds)"
   ]
  },
  {
   "cell_type": "code",
   "execution_count": 18,
   "metadata": {},
   "outputs": [],
   "source": [
    "teacher_results.to_csv(\"teacher_results.csv\", sep=\",\", encoding=\"utf-8\")\n",
    "gpt2_f1 = f1_score(\n",
    "    teacher_results[\"true_label\"], teacher_results[\"gpt2_preds\"], average=\"macro\"\n",
    ")\n",
    "fhe_f1 = f1_score(\n",
    "    teacher_results[\"true_label\"], teacher_results[\"fhe_preds\"], average=\"macro\"\n",
    ")"
   ]
  },
  {
   "cell_type": "code",
   "execution_count": 21,
   "metadata": {},
   "outputs": [
    {
     "name": "stdout",
     "output_type": "stream",
     "text": [
      "We achieved an f1 score of 0.8792 on the vanilla model\n",
      "We achieved an f1 score of 0.8516 on the FHE compliant model\n"
     ]
    }
   ],
   "source": [
    "print(f\"We achieved an f1 score of {gpt2_f1:.4f} on the vanilla model\")\n",
    "print(f\"We achieved an f1 score of {fhe_f1:.4f} on the FHE compliant model\")"
   ]
  },
  {
   "cell_type": "markdown",
   "metadata": {},
   "source": [
    "### Training the student model with teacher labels"
   ]
  },
  {
   "cell_type": "code",
   "execution_count": 14,
   "metadata": {},
   "outputs": [
    {
     "name": "stderr",
     "output_type": "stream",
     "text": [
      "Map: 100%|██████████| 13176/13176 [00:04<00:00, 3079.43 examples/s]\n",
      "Map: 100%|██████████| 1464/1464 [00:00<00:00, 2956.81 examples/s]\n"
     ]
    },
    {
     "data": {
      "text/html": [
       "\n",
       "    <div>\n",
       "      \n",
       "      <progress value='2472' max='2472' style='width:300px; height:20px; vertical-align: middle;'></progress>\n",
       "      [2472/2472 03:05, Epoch 3/3]\n",
       "    </div>\n",
       "    <table border=\"1\" class=\"dataframe\">\n",
       "  <thead>\n",
       " <tr style=\"text-align: left;\">\n",
       "      <th>Step</th>\n",
       "      <th>Training Loss</th>\n",
       "    </tr>\n",
       "  </thead>\n",
       "  <tbody>\n",
       "    <tr>\n",
       "      <td>500</td>\n",
       "      <td>0.417600</td>\n",
       "    </tr>\n",
       "    <tr>\n",
       "      <td>1000</td>\n",
       "      <td>0.258600</td>\n",
       "    </tr>\n",
       "    <tr>\n",
       "      <td>1500</td>\n",
       "      <td>0.180100</td>\n",
       "    </tr>\n",
       "    <tr>\n",
       "      <td>2000</td>\n",
       "      <td>0.115200</td>\n",
       "    </tr>\n",
       "  </tbody>\n",
       "</table><p>"
      ],
      "text/plain": [
       "<IPython.core.display.HTML object>"
      ]
     },
     "metadata": {},
     "output_type": "display_data"
    },
    {
     "data": {
      "text/plain": [
       "TrainOutput(global_step=2472, training_loss=0.21345024047160227, metrics={'train_runtime': 185.3752, 'train_samples_per_second': 213.232, 'train_steps_per_second': 13.335, 'total_flos': 1309066178439168.0, 'train_loss': 0.21345024047160227, 'epoch': 3.0})"
      ]
     },
     "execution_count": 14,
     "metadata": {},
     "output_type": "execute_result"
    }
   ],
   "source": [
    "from transformers import DistilBertForSequenceClassification, DistilBertTokenizer\n",
    "\n",
    "# Load the student model and tokenizer\n",
    "student_model = DistilBertForSequenceClassification.from_pretrained(\n",
    "    \"distilbert-base-uncased\", num_labels=3\n",
    ")\n",
    "tokenizer = DistilBertTokenizer.from_pretrained(\"distilbert-base-uncased\")\n",
    "\n",
    "student_model.config.pad_token_id = student_model.config.eos_token_id\n",
    "\n",
    "# Mark parent predictions as actual true labels and remove unused labels\n",
    "teacher_results = read_csv(\"teacher_results.csv\")\n",
    "teacher_results[\"label\"] = teacher_results[\"fhe_preds\"]\n",
    "teacher_results.drop([\"true_label\", \"gpt2_preds\"], axis=1)\n",
    "\n",
    "# Tokenize the inputs\n",
    "student_train = Dataset.from_pandas(teacher_results)\n",
    "student_train = student_train.map(tokenize_function, batched=True)\n",
    "student_train.set_format(\"torch\", columns=[\"input_ids\", \"attention_mask\", \"label\"])\n",
    "\n",
    "\n",
    "eval_ds = train_and_eval[\"test\"]\n",
    "eval_ds = eval_ds.map(tokenize_function, batched=True)\n",
    "eval_ds.set_format(\"torch\", columns=[\"input_ids\", \"attention_mask\", \"label\"])\n",
    "\n",
    "\n",
    "student_training_args = TrainingArguments(\n",
    "    report_to=\"none\",\n",
    "    output_dir=\"/data/bz620/model_outputs\",\n",
    "    learning_rate=2e-5,\n",
    "    per_device_train_batch_size=16,\n",
    "    per_device_eval_batch_size=16,\n",
    "    num_train_epochs=3,\n",
    "    weight_decay=0.01,\n",
    "    save_strategy=\"epoch\",\n",
    ")\n",
    "\n",
    "student_trainer = Trainer(\n",
    "    model=student_model,\n",
    "    args=student_training_args,\n",
    "    train_dataset=student_train,\n",
    "    eval_dataset=eval_ds,\n",
    "    tokenizer=tokenizer,\n",
    "    compute_metrics=compute_metrics,\n",
    ")\n",
    "\n",
    "\n",
    "student_trainer.train()"
   ]
  },
  {
   "cell_type": "code",
   "execution_count": 15,
   "metadata": {},
   "outputs": [
    {
     "data": {
      "text/html": [
       "\n",
       "    <div>\n",
       "      \n",
       "      <progress value='2' max='92' style='width:300px; height:20px; vertical-align: middle;'></progress>\n",
       "      [ 2/92 00:00 < 00:02, 37.44 it/s]\n",
       "    </div>\n",
       "    "
      ],
      "text/plain": [
       "<IPython.core.display.HTML object>"
      ]
     },
     "metadata": {},
     "output_type": "display_data"
    },
    {
     "data": {
      "text/plain": [
       "{'eval_loss': 0.7473267912864685,\n",
       " 'eval_Macro F1': 0.799,\n",
       " 'eval_F1 for negative': 0.909,\n",
       " 'eval_F1 for neutral': 0.6736,\n",
       " 'eval_F1 for postive': 0.8145,\n",
       " 'eval_runtime': 2.065,\n",
       " 'eval_samples_per_second': 708.967,\n",
       " 'eval_steps_per_second': 44.553,\n",
       " 'epoch': 3.0}"
      ]
     },
     "execution_count": 15,
     "metadata": {},
     "output_type": "execute_result"
    }
   ],
   "source": [
    "student_trainer.evaluate()"
   ]
  },
  {
   "cell_type": "markdown",
   "metadata": {},
   "source": [
    "### Training the student model with true labels"
   ]
  },
  {
   "cell_type": "code",
   "execution_count": 16,
   "metadata": {},
   "outputs": [
    {
     "name": "stderr",
     "output_type": "stream",
     "text": [
      "Map: 100%|██████████| 13176/13176 [00:04<00:00, 2971.06 examples/s]\n",
      "Map: 100%|██████████| 1464/1464 [00:00<00:00, 2802.27 examples/s]\n"
     ]
    },
    {
     "data": {
      "text/html": [
       "\n",
       "    <div>\n",
       "      \n",
       "      <progress value='2472' max='2472' style='width:300px; height:20px; vertical-align: middle;'></progress>\n",
       "      [2472/2472 03:19, Epoch 3/3]\n",
       "    </div>\n",
       "    <table border=\"1\" class=\"dataframe\">\n",
       "  <thead>\n",
       " <tr style=\"text-align: left;\">\n",
       "      <th>Step</th>\n",
       "      <th>Training Loss</th>\n",
       "    </tr>\n",
       "  </thead>\n",
       "  <tbody>\n",
       "    <tr>\n",
       "      <td>500</td>\n",
       "      <td>0.559800</td>\n",
       "    </tr>\n",
       "    <tr>\n",
       "      <td>1000</td>\n",
       "      <td>0.411600</td>\n",
       "    </tr>\n",
       "    <tr>\n",
       "      <td>1500</td>\n",
       "      <td>0.326100</td>\n",
       "    </tr>\n",
       "    <tr>\n",
       "      <td>2000</td>\n",
       "      <td>0.263500</td>\n",
       "    </tr>\n",
       "  </tbody>\n",
       "</table><p>"
      ],
      "text/plain": [
       "<IPython.core.display.HTML object>"
      ]
     },
     "metadata": {},
     "output_type": "display_data"
    },
    {
     "data": {
      "text/plain": [
       "TrainOutput(global_step=2472, training_loss=0.36185037125275743, metrics={'train_runtime': 199.829, 'train_samples_per_second': 197.809, 'train_steps_per_second': 12.371, 'total_flos': 1309066178439168.0, 'train_loss': 0.36185037125275743, 'epoch': 3.0})"
      ]
     },
     "execution_count": 16,
     "metadata": {},
     "output_type": "execute_result"
    }
   ],
   "source": [
    "from transformers import DistilBertForSequenceClassification, DistilBertTokenizer\n",
    "\n",
    "# Load the student model and tokenizer\n",
    "student_model = DistilBertForSequenceClassification.from_pretrained(\n",
    "    \"distilbert-base-uncased\", num_labels=3\n",
    ")\n",
    "tokenizer = DistilBertTokenizer.from_pretrained(\"distilbert-base-uncased\")\n",
    "\n",
    "# tokenizer.pad_token = tokenizer.eos_token\n",
    "student_model.config.pad_token_id = student_model.config.eos_token_id\n",
    "\n",
    "student_train = train_and_eval[\"train\"]\n",
    "student_train = student_train.map(tokenize_function, batched=True)\n",
    "student_train.set_format(\"torch\", columns=[\"input_ids\", \"attention_mask\", \"label\"])\n",
    "\n",
    "\n",
    "eval_ds = train_and_eval[\"test\"]\n",
    "eval_ds = eval_ds.map(tokenize_function, batched=True)\n",
    "eval_ds.set_format(\"torch\", columns=[\"input_ids\", \"attention_mask\", \"label\"])\n",
    "\n",
    "\n",
    "student_training_args = TrainingArguments(\n",
    "    report_to=\"none\",\n",
    "    output_dir=\"/data/bz620/model_outputs\",\n",
    "    learning_rate=2e-5,\n",
    "    per_device_train_batch_size=16,\n",
    "    per_device_eval_batch_size=16,\n",
    "    num_train_epochs=3,\n",
    "    weight_decay=0.01,\n",
    "    save_strategy=\"epoch\",\n",
    ")\n",
    "\n",
    "student_trainer = Trainer(\n",
    "    model=student_model,\n",
    "    args=student_training_args,\n",
    "    train_dataset=student_train,\n",
    "    eval_dataset=eval_ds,\n",
    "    tokenizer=tokenizer,\n",
    "    compute_metrics=compute_metrics,\n",
    ")\n",
    "\n",
    "student_trainer.train()"
   ]
  },
  {
   "cell_type": "code",
   "execution_count": 18,
   "metadata": {},
   "outputs": [
    {
     "data": {
      "text/plain": [
       "{'eval_loss': 0.4384877681732178,\n",
       " 'eval_Macro F1': 0.8005,\n",
       " 'eval_F1 for negative': 0.9135,\n",
       " 'eval_F1 for neutral': 0.6908,\n",
       " 'eval_F1 for postive': 0.7972,\n",
       " 'eval_runtime': 2.223,\n",
       " 'eval_samples_per_second': 658.581,\n",
       " 'eval_steps_per_second': 41.386,\n",
       " 'epoch': 3.0}"
      ]
     },
     "execution_count": 18,
     "metadata": {},
     "output_type": "execute_result"
    }
   ],
   "source": [
    "student_trainer.evaluate()"
   ]
  }
 ],
 "metadata": {
  "kernelspec": {
   "display_name": "fyp",
   "language": "python",
   "name": "python3"
  },
  "language_info": {
   "codemirror_mode": {
    "name": "ipython",
    "version": 3
   },
   "file_extension": ".py",
   "mimetype": "text/x-python",
   "name": "python",
   "nbconvert_exporter": "python",
   "pygments_lexer": "ipython3",
   "version": "3.10.12"
  }
 },
 "nbformat": 4,
 "nbformat_minor": 2
}
